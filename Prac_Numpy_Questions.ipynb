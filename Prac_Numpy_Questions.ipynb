{
 "cells": [
  {
   "cell_type": "markdown",
   "metadata": {},
   "source": [
    "# NumPy Exercises"
   ]
  },
  {
   "cell_type": "markdown",
   "metadata": {},
   "source": [
    "Reference for some of these exercises is [here](https://www.w3resource.com/python-exercises/)."
   ]
  },
  {
   "cell_type": "markdown",
   "metadata": {},
   "source": [
    "## Exercise 1\n",
    "\n",
    "Write a NumPy program to create a random array with 100 real-valued elements between 1 & 5 and compute the following for this array rounded to 2 decimal places:\n",
    "- average (that is, the sample mean)\n",
    "- population variance and population standard deviation (default option in NumPy)\n",
    "- sample variance and sample standard deviation\n",
    "\n",
    "**Hint:** For sample variance and sample standard deviation, use the `ddof=1` parameter value."
   ]
  },
  {
   "cell_type": "markdown",
   "metadata": {},
   "source": [
    "**Explanations**\n",
    "\n",
    "Population variance\n",
    "\n",
    "$$\\text{Population variance} = \\frac{\\sum_{i=1}^{N}(X_i - \\bar{X})^{2}}{N}$$\n",
    "\n",
    "Sample variance\n",
    "\n",
    "$$\\text{Sample variance} = \\frac{\\sum_{i=1}^{N}(X_i - \\bar{X})^{2}}{N-1}$$"
   ]
  },
  {
   "cell_type": "code",
   "execution_count": 15,
   "metadata": {},
   "outputs": [
    {
     "name": "stdout",
     "output_type": "stream",
     "text": [
      "1.1655840459832036\n"
     ]
    }
   ],
   "source": [
    "import numpy as np\n",
    "\n",
    "sample_array = (np.random.rand(100) * 4) + 1\n",
    "\n",
    "standard_deviation = sample_array.std(ddof=1)\n"
   ]
  },
  {
   "cell_type": "markdown",
   "metadata": {},
   "source": [
    "## Execise 2\n",
    "\n",
    "Write a NumPy program to get the values and indices of the elements that are bigger than 10 in a given array. "
   ]
  },
  {
   "cell_type": "code",
   "execution_count": 18,
   "metadata": {},
   "outputs": [
    {
     "data": {
      "text/plain": [
       "array([ 12,  34, 543,  23])"
      ]
     },
     "execution_count": 18,
     "metadata": {},
     "output_type": "execute_result"
    }
   ],
   "source": [
    "def bigger_than_10(array):\n",
    "    return array[array > 10]\n",
    "\n",
    "bigger_than_10(np.array([12,34,543,2,4,23]))"
   ]
  },
  {
   "cell_type": "markdown",
   "metadata": {},
   "source": [
    "## Exercise 3\n",
    "\n",
    "Write a NumPy program to find the set difference of two arrays. The set difference will return the sorted, unique values in the first array `array1` that are not in the second one `array2`. **Hint:** This is a one-liner."
   ]
  },
  {
   "cell_type": "code",
   "execution_count": 20,
   "metadata": {},
   "outputs": [
    {
     "data": {
      "text/plain": [
       "array([2, 3])"
      ]
     },
     "execution_count": 20,
     "metadata": {},
     "output_type": "execute_result"
    }
   ],
   "source": [
    "def set_difference(array1, array2):\n",
    "    return np.setdiff1d(array1, array2)\n",
    "array1 = np.array([2,3,4,5,6])\n",
    "array2 = np.array([4,5,6,7,8])\n",
    "set_difference(array1, array2)"
   ]
  },
  {
   "cell_type": "markdown",
   "metadata": {},
   "source": [
    "## Exercise 4\n",
    "\n",
    "Write a NumPy program to calculate element-wise round, floor, ceiling, and truncated form of an input array."
   ]
  },
  {
   "cell_type": "code",
   "execution_count": 28,
   "metadata": {},
   "outputs": [
    {
     "data": {
      "text/plain": [
       "array([0., 1., 5.])"
      ]
     },
     "execution_count": 28,
     "metadata": {},
     "output_type": "execute_result"
    }
   ],
   "source": [
    "def round_array(array: np.array):\n",
    "    return array.round()\n",
    "round_array(np.array([0.43, 1.234, 5.32]))\n",
    "\n",
    "def floor_array(array: np.array):\n",
    "    return np.floor(array) // 1\n",
    "floor_array(np.array([0.43, 1.234, 5.32]))"
   ]
  },
  {
   "cell_type": "markdown",
   "metadata": {},
   "source": [
    "***\n",
    "www.featureranking.com"
   ]
  }
 ],
 "metadata": {
  "hide_input": false,
  "kernelspec": {
   "display_name": "Python 3 (ipykernel)",
   "language": "python",
   "name": "python3"
  },
  "language_info": {
   "codemirror_mode": {
    "name": "ipython",
    "version": 3
   },
   "file_extension": ".py",
   "mimetype": "text/x-python",
   "name": "python",
   "nbconvert_exporter": "python",
   "pygments_lexer": "ipython3",
   "version": "3.9.12"
  }
 },
 "nbformat": 4,
 "nbformat_minor": 2
}
